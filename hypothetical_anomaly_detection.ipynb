{
 "cells": [
  {
   "cell_type": "markdown",
   "metadata": {},
   "source": []
  },
  {
   "cell_type": "code",
   "execution_count": 1,
   "metadata": {},
   "outputs": [],
   "source": [
    "import numpy as np\n",
    "import pandas as pd\n",
    "import matplotlib.pyplot as plt\n",
    "import seaborn as sns"
   ]
  },
  {
   "cell_type": "code",
   "execution_count": 4,
   "metadata": {},
   "outputs": [],
   "source": [
    "import re"
   ]
  },
  {
   "cell_type": "code",
   "execution_count": 6,
   "metadata": {},
   "outputs": [],
   "source": [
    "data_arr = []\n",
    "with open('webservertrafficlog/access.log') as log:\n",
    "    for line in log.readlines():\n",
    "        match = re.match(r'(.+) - - \\[(\\d{2}\\/\\w{3}\\/\\d{4}:\\d{2}:\\d{2}:\\d{2}) \\+\\d{4}\\] \\\"(\\w+) .+', line)\n",
    "        if match:\n",
    "            data_arr.append([match.group(1), match.group(2), match.group(3)])\n",
    "\n",
    "data = pd.DataFrame(data_arr, columns=['ip_address', 'datetime', 'request_type'])"
   ]
  },
  {
   "cell_type": "code",
   "execution_count": 7,
   "metadata": {},
   "outputs": [
    {
     "data": {
      "text/html": [
       "<div>\n",
       "<style scoped>\n",
       "    .dataframe tbody tr th:only-of-type {\n",
       "        vertical-align: middle;\n",
       "    }\n",
       "\n",
       "    .dataframe tbody tr th {\n",
       "        vertical-align: top;\n",
       "    }\n",
       "\n",
       "    .dataframe thead th {\n",
       "        text-align: right;\n",
       "    }\n",
       "</style>\n",
       "<table border=\"1\" class=\"dataframe\">\n",
       "  <thead>\n",
       "    <tr style=\"text-align: right;\">\n",
       "      <th></th>\n",
       "      <th>ip_address</th>\n",
       "      <th>datetime</th>\n",
       "      <th>request_type</th>\n",
       "    </tr>\n",
       "  </thead>\n",
       "  <tbody>\n",
       "    <tr>\n",
       "      <th>0</th>\n",
       "      <td>54.36.149.41</td>\n",
       "      <td>22/Jan/2019:03:56:14</td>\n",
       "      <td>GET</td>\n",
       "    </tr>\n",
       "    <tr>\n",
       "      <th>1</th>\n",
       "      <td>31.56.96.51</td>\n",
       "      <td>22/Jan/2019:03:56:16</td>\n",
       "      <td>GET</td>\n",
       "    </tr>\n",
       "    <tr>\n",
       "      <th>2</th>\n",
       "      <td>31.56.96.51</td>\n",
       "      <td>22/Jan/2019:03:56:16</td>\n",
       "      <td>GET</td>\n",
       "    </tr>\n",
       "    <tr>\n",
       "      <th>3</th>\n",
       "      <td>40.77.167.129</td>\n",
       "      <td>22/Jan/2019:03:56:17</td>\n",
       "      <td>GET</td>\n",
       "    </tr>\n",
       "    <tr>\n",
       "      <th>4</th>\n",
       "      <td>91.99.72.15</td>\n",
       "      <td>22/Jan/2019:03:56:17</td>\n",
       "      <td>GET</td>\n",
       "    </tr>\n",
       "    <tr>\n",
       "      <th>...</th>\n",
       "      <td>...</td>\n",
       "      <td>...</td>\n",
       "      <td>...</td>\n",
       "    </tr>\n",
       "    <tr>\n",
       "      <th>10365093</th>\n",
       "      <td>188.229.21.56</td>\n",
       "      <td>26/Jan/2019:20:29:13</td>\n",
       "      <td>GET</td>\n",
       "    </tr>\n",
       "    <tr>\n",
       "      <th>10365094</th>\n",
       "      <td>5.127.220.71</td>\n",
       "      <td>26/Jan/2019:20:29:13</td>\n",
       "      <td>GET</td>\n",
       "    </tr>\n",
       "    <tr>\n",
       "      <th>10365095</th>\n",
       "      <td>5.213.7.50</td>\n",
       "      <td>26/Jan/2019:20:29:13</td>\n",
       "      <td>GET</td>\n",
       "    </tr>\n",
       "    <tr>\n",
       "      <th>10365096</th>\n",
       "      <td>109.125.169.52</td>\n",
       "      <td>26/Jan/2019:20:29:13</td>\n",
       "      <td>GET</td>\n",
       "    </tr>\n",
       "    <tr>\n",
       "      <th>10365097</th>\n",
       "      <td>37.129.59.160</td>\n",
       "      <td>26/Jan/2019:20:29:13</td>\n",
       "      <td>GET</td>\n",
       "    </tr>\n",
       "  </tbody>\n",
       "</table>\n",
       "<p>10365098 rows × 3 columns</p>\n",
       "</div>"
      ],
      "text/plain": [
       "              ip_address              datetime request_type\n",
       "0           54.36.149.41  22/Jan/2019:03:56:14          GET\n",
       "1            31.56.96.51  22/Jan/2019:03:56:16          GET\n",
       "2            31.56.96.51  22/Jan/2019:03:56:16          GET\n",
       "3          40.77.167.129  22/Jan/2019:03:56:17          GET\n",
       "4            91.99.72.15  22/Jan/2019:03:56:17          GET\n",
       "...                  ...                   ...          ...\n",
       "10365093   188.229.21.56  26/Jan/2019:20:29:13          GET\n",
       "10365094    5.127.220.71  26/Jan/2019:20:29:13          GET\n",
       "10365095      5.213.7.50  26/Jan/2019:20:29:13          GET\n",
       "10365096  109.125.169.52  26/Jan/2019:20:29:13          GET\n",
       "10365097   37.129.59.160  26/Jan/2019:20:29:13          GET\n",
       "\n",
       "[10365098 rows x 3 columns]"
      ]
     },
     "execution_count": 7,
     "metadata": {},
     "output_type": "execute_result"
    }
   ],
   "source": [
    "data"
   ]
  },
  {
   "cell_type": "code",
   "execution_count": 8,
   "metadata": {},
   "outputs": [],
   "source": [
    "#Convert string datetime to Timestamp\n",
    "\n",
    "data['datetime'] = data.datetime.apply(lambda x: x.replace('Jan', '01'))\n",
    "data['datetime'] = pd.to_datetime(data.datetime, format='%d/%m/%Y:%H:%M:%S')\n"
   ]
  },
  {
   "cell_type": "code",
   "execution_count": 9,
   "metadata": {},
   "outputs": [],
   "source": [
    "#add datetime columns to group by\n",
    "\n",
    "data['day'] = data['datetime'].apply(lambda x: x.day)\n",
    "data['hour'] = data['datetime'].apply(lambda x: x.hour)\n",
    "data['minute'] = data['datetime'].apply(lambda x: x.minute)"
   ]
  },
  {
   "cell_type": "code",
   "execution_count": 10,
   "metadata": {},
   "outputs": [],
   "source": [
    "#aggregate by minute and by hour\n",
    "\n",
    "aggByMin = data.groupby(['day', 'hour', 'minute'], as_index=False).agg('count')\\\n",
    "  .rename({'ip_address': 'count'}, axis=1).drop(['datetime', 'request_type'], axis=1)\n",
    "\n",
    "aggByHour = data.groupby(['day', 'hour'], as_index=False).agg('count')\\\n",
    "  .rename({'ip_address': 'count'}, axis=1).drop(['datetime', 'request_type', 'minute'], axis=1)\n"
   ]
  },
  {
   "cell_type": "code",
   "execution_count": 11,
   "metadata": {},
   "outputs": [],
   "source": [
    "data.to_csv('cleaned_log.csv')"
   ]
  },
  {
   "cell_type": "code",
   "execution_count": 12,
   "metadata": {},
   "outputs": [
    {
     "name": "stdout",
     "output_type": "stream",
     "text": [
      "<class 'pandas.core.frame.DataFrame'>\n",
      "RangeIndex: 10365098 entries, 0 to 10365097\n",
      "Data columns (total 6 columns):\n",
      " #   Column        Dtype         \n",
      "---  ------        -----         \n",
      " 0   ip_address    object        \n",
      " 1   datetime      datetime64[ns]\n",
      " 2   request_type  object        \n",
      " 3   day           int64         \n",
      " 4   hour          int64         \n",
      " 5   minute        int64         \n",
      "dtypes: datetime64[ns](1), int64(3), object(2)\n",
      "memory usage: 474.5+ MB\n"
     ]
    }
   ],
   "source": [
    "data.info()"
   ]
  },
  {
   "cell_type": "code",
   "execution_count": null,
   "metadata": {},
   "outputs": [],
   "source": []
  }
 ],
 "metadata": {
  "kernelspec": {
   "display_name": "Python 3",
   "language": "python",
   "name": "python3"
  },
  "language_info": {
   "codemirror_mode": {
    "name": "ipython",
    "version": 3
   },
   "file_extension": ".py",
   "mimetype": "text/x-python",
   "name": "python",
   "nbconvert_exporter": "python",
   "pygments_lexer": "ipython3",
   "version": "3.8.2"
  }
 },
 "nbformat": 4,
 "nbformat_minor": 4
}
