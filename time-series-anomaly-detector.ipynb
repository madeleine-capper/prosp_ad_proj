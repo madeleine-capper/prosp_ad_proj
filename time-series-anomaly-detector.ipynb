{
 "cells": [
  {
   "cell_type": "markdown",
   "metadata": {},
   "source": [
    "# Time Series Anomaly Detector\n",
    "\n",
    "We will use a concept known as Bollinger Bands to discover when behavior changes from what is \"expected\" or normal. Bollinger Bands is a volatility indicator and commonly used in stock market trading. \n",
    "\n",
    "Scenario: Discover anomalies in number of web pages accessed in a day by a user. Is there a bot copying the curriculum? \n",
    "\n",
    "We will accomplish this by breaking down to the following tasks:\n",
    "\n",
    "1. acquire the data\n",
    "2. prepare the data\n",
    "3. make the analysis process (which we will discuss later) work over all users. \n",
    "4. Turn the analysis process and calculations into a function that can be used to loop through for each user. \n",
    "5. Test the function on a single user. \n",
    "6. Analyze by looping over all users. \n",
    "\n",
    "The analysis process will look like this, for each user: \n",
    "\n",
    "1. compute necessary metrics to arrive at the final metric, %b (percent-b).\n",
    "2. add user id to the dataframe that contains all the metrics, including %b. \n",
    "3. filter to rows where %b indicates anomaly (i.e. > 1)\n",
    "4. append rows of anomalies of new user to previous users' anomalous activity. \n",
    "\n",
    "Finally, we will do a quick sample of exploration of the anomalies. There is much more you can do! \n",
    "\n",
    "Your exercise will be to add comments, markdown, and docstrings to the code in this lesson. "
   ]
  },
  {
   "cell_type": "code",
   "execution_count": 1,
   "metadata": {},
   "outputs": [],
   "source": [
    "import warnings\n",
    "warnings.filterwarnings(\"ignore\")\n",
    "import matplotlib.pyplot as plt\n",
    "\n",
    "import numpy as np\n",
    "import pandas as pd\n",
    "\n",
    "# from matplotlib import style\n",
    "import seaborn as sns\n",
    "%matplotlib inline\n",
    "\n",
    "# pd.plotting.register_matplotlib_converters()"
   ]
  },
  {
   "cell_type": "markdown",
   "metadata": {},
   "source": [
    "\n",
    "**Acquire**\n",
    "\n",
    "After doing some research, some experimentation of performing actions and watching the logs, we discovered what each of the fields represent. We then parse and name the fields accordingly. "
   ]
  },
  {
   "cell_type": "code",
   "execution_count": 5,
   "metadata": {},
   "outputs": [],
   "source": [
    "df = pd.read_csv('cleaned_log.csv')"
   ]
  },
  {
   "cell_type": "code",
   "execution_count": 8,
   "metadata": {},
   "outputs": [],
   "source": [
    "df.drop(columns='Unnamed: 0', inplace=True)"
   ]
  },
  {
   "cell_type": "code",
   "execution_count": 9,
   "metadata": {},
   "outputs": [
    {
     "data": {
      "text/html": [
       "<div>\n",
       "<style scoped>\n",
       "    .dataframe tbody tr th:only-of-type {\n",
       "        vertical-align: middle;\n",
       "    }\n",
       "\n",
       "    .dataframe tbody tr th {\n",
       "        vertical-align: top;\n",
       "    }\n",
       "\n",
       "    .dataframe thead th {\n",
       "        text-align: right;\n",
       "    }\n",
       "</style>\n",
       "<table border=\"1\" class=\"dataframe\">\n",
       "  <thead>\n",
       "    <tr style=\"text-align: right;\">\n",
       "      <th></th>\n",
       "      <th>ip_address</th>\n",
       "      <th>datetime</th>\n",
       "      <th>request_type</th>\n",
       "      <th>day</th>\n",
       "      <th>hour</th>\n",
       "      <th>minute</th>\n",
       "    </tr>\n",
       "  </thead>\n",
       "  <tbody>\n",
       "    <tr>\n",
       "      <th>0</th>\n",
       "      <td>54.36.149.41</td>\n",
       "      <td>2019-01-22 03:56:14</td>\n",
       "      <td>GET</td>\n",
       "      <td>22</td>\n",
       "      <td>3</td>\n",
       "      <td>56</td>\n",
       "    </tr>\n",
       "    <tr>\n",
       "      <th>1</th>\n",
       "      <td>31.56.96.51</td>\n",
       "      <td>2019-01-22 03:56:16</td>\n",
       "      <td>GET</td>\n",
       "      <td>22</td>\n",
       "      <td>3</td>\n",
       "      <td>56</td>\n",
       "    </tr>\n",
       "    <tr>\n",
       "      <th>2</th>\n",
       "      <td>31.56.96.51</td>\n",
       "      <td>2019-01-22 03:56:16</td>\n",
       "      <td>GET</td>\n",
       "      <td>22</td>\n",
       "      <td>3</td>\n",
       "      <td>56</td>\n",
       "    </tr>\n",
       "    <tr>\n",
       "      <th>3</th>\n",
       "      <td>40.77.167.129</td>\n",
       "      <td>2019-01-22 03:56:17</td>\n",
       "      <td>GET</td>\n",
       "      <td>22</td>\n",
       "      <td>3</td>\n",
       "      <td>56</td>\n",
       "    </tr>\n",
       "    <tr>\n",
       "      <th>4</th>\n",
       "      <td>91.99.72.15</td>\n",
       "      <td>2019-01-22 03:56:17</td>\n",
       "      <td>GET</td>\n",
       "      <td>22</td>\n",
       "      <td>3</td>\n",
       "      <td>56</td>\n",
       "    </tr>\n",
       "    <tr>\n",
       "      <th>...</th>\n",
       "      <td>...</td>\n",
       "      <td>...</td>\n",
       "      <td>...</td>\n",
       "      <td>...</td>\n",
       "      <td>...</td>\n",
       "      <td>...</td>\n",
       "    </tr>\n",
       "    <tr>\n",
       "      <th>10365093</th>\n",
       "      <td>188.229.21.56</td>\n",
       "      <td>2019-01-26 20:29:13</td>\n",
       "      <td>GET</td>\n",
       "      <td>26</td>\n",
       "      <td>20</td>\n",
       "      <td>29</td>\n",
       "    </tr>\n",
       "    <tr>\n",
       "      <th>10365094</th>\n",
       "      <td>5.127.220.71</td>\n",
       "      <td>2019-01-26 20:29:13</td>\n",
       "      <td>GET</td>\n",
       "      <td>26</td>\n",
       "      <td>20</td>\n",
       "      <td>29</td>\n",
       "    </tr>\n",
       "    <tr>\n",
       "      <th>10365095</th>\n",
       "      <td>5.213.7.50</td>\n",
       "      <td>2019-01-26 20:29:13</td>\n",
       "      <td>GET</td>\n",
       "      <td>26</td>\n",
       "      <td>20</td>\n",
       "      <td>29</td>\n",
       "    </tr>\n",
       "    <tr>\n",
       "      <th>10365096</th>\n",
       "      <td>109.125.169.52</td>\n",
       "      <td>2019-01-26 20:29:13</td>\n",
       "      <td>GET</td>\n",
       "      <td>26</td>\n",
       "      <td>20</td>\n",
       "      <td>29</td>\n",
       "    </tr>\n",
       "    <tr>\n",
       "      <th>10365097</th>\n",
       "      <td>37.129.59.160</td>\n",
       "      <td>2019-01-26 20:29:13</td>\n",
       "      <td>GET</td>\n",
       "      <td>26</td>\n",
       "      <td>20</td>\n",
       "      <td>29</td>\n",
       "    </tr>\n",
       "  </tbody>\n",
       "</table>\n",
       "<p>10365098 rows × 6 columns</p>\n",
       "</div>"
      ],
      "text/plain": [
       "              ip_address             datetime request_type  day  hour  minute\n",
       "0           54.36.149.41  2019-01-22 03:56:14          GET   22     3      56\n",
       "1            31.56.96.51  2019-01-22 03:56:16          GET   22     3      56\n",
       "2            31.56.96.51  2019-01-22 03:56:16          GET   22     3      56\n",
       "3          40.77.167.129  2019-01-22 03:56:17          GET   22     3      56\n",
       "4            91.99.72.15  2019-01-22 03:56:17          GET   22     3      56\n",
       "...                  ...                  ...          ...  ...   ...     ...\n",
       "10365093   188.229.21.56  2019-01-26 20:29:13          GET   26    20      29\n",
       "10365094    5.127.220.71  2019-01-26 20:29:13          GET   26    20      29\n",
       "10365095      5.213.7.50  2019-01-26 20:29:13          GET   26    20      29\n",
       "10365096  109.125.169.52  2019-01-26 20:29:13          GET   26    20      29\n",
       "10365097   37.129.59.160  2019-01-26 20:29:13          GET   26    20      29\n",
       "\n",
       "[10365098 rows x 6 columns]"
      ]
     },
     "execution_count": 9,
     "metadata": {},
     "output_type": "execute_result"
    }
   ],
   "source": [
    "df"
   ]
  },
  {
   "cell_type": "markdown",
   "metadata": {},
   "source": [
    "**Prepare**\n"
   ]
  },
  {
   "cell_type": "code",
   "execution_count": 39,
   "metadata": {},
   "outputs": [
    {
     "data": {
      "text/plain": [
       "datetime\n",
       "2019-01-22 03:00:00     1285\n",
       "2019-01-22 04:00:00    14471\n",
       "2019-01-22 05:00:00    14867\n",
       "2019-01-22 06:00:00    19357\n",
       "2019-01-22 07:00:00    47800\n",
       "Freq: H, Name: request_type, dtype: int64"
      ]
     },
     "execution_count": 39,
     "metadata": {},
     "output_type": "execute_result"
    }
   ],
   "source": [
    "df.datetime = pd.to_datetime(df.datetime)\n",
    "df = df.set_index(df.datetime)\n",
    "hits = df['request_type'].resample('h').count()\n",
    "hits.head()"
   ]
  },
  {
   "cell_type": "code",
   "execution_count": 40,
   "metadata": {},
   "outputs": [
    {
     "data": {
      "text/html": [
       "<div>\n",
       "<style scoped>\n",
       "    .dataframe tbody tr th:only-of-type {\n",
       "        vertical-align: middle;\n",
       "    }\n",
       "\n",
       "    .dataframe tbody tr th {\n",
       "        vertical-align: top;\n",
       "    }\n",
       "\n",
       "    .dataframe thead th {\n",
       "        text-align: right;\n",
       "    }\n",
       "</style>\n",
       "<table border=\"1\" class=\"dataframe\">\n",
       "  <thead>\n",
       "    <tr style=\"text-align: right;\">\n",
       "      <th></th>\n",
       "      <th>ip_address</th>\n",
       "      <th>datetime</th>\n",
       "      <th>request_type</th>\n",
       "      <th>day</th>\n",
       "      <th>hour</th>\n",
       "      <th>minute</th>\n",
       "    </tr>\n",
       "    <tr>\n",
       "      <th>datetime</th>\n",
       "      <th></th>\n",
       "      <th></th>\n",
       "      <th></th>\n",
       "      <th></th>\n",
       "      <th></th>\n",
       "      <th></th>\n",
       "    </tr>\n",
       "  </thead>\n",
       "  <tbody>\n",
       "    <tr>\n",
       "      <th>2019-01-22 03:56:14</th>\n",
       "      <td>54.36.149.41</td>\n",
       "      <td>2019-01-22 03:56:14</td>\n",
       "      <td>GET</td>\n",
       "      <td>22</td>\n",
       "      <td>3</td>\n",
       "      <td>56</td>\n",
       "    </tr>\n",
       "    <tr>\n",
       "      <th>2019-01-22 03:56:16</th>\n",
       "      <td>31.56.96.51</td>\n",
       "      <td>2019-01-22 03:56:16</td>\n",
       "      <td>GET</td>\n",
       "      <td>22</td>\n",
       "      <td>3</td>\n",
       "      <td>56</td>\n",
       "    </tr>\n",
       "    <tr>\n",
       "      <th>2019-01-22 03:56:16</th>\n",
       "      <td>31.56.96.51</td>\n",
       "      <td>2019-01-22 03:56:16</td>\n",
       "      <td>GET</td>\n",
       "      <td>22</td>\n",
       "      <td>3</td>\n",
       "      <td>56</td>\n",
       "    </tr>\n",
       "    <tr>\n",
       "      <th>2019-01-22 03:56:17</th>\n",
       "      <td>40.77.167.129</td>\n",
       "      <td>2019-01-22 03:56:17</td>\n",
       "      <td>GET</td>\n",
       "      <td>22</td>\n",
       "      <td>3</td>\n",
       "      <td>56</td>\n",
       "    </tr>\n",
       "    <tr>\n",
       "      <th>2019-01-22 03:56:17</th>\n",
       "      <td>91.99.72.15</td>\n",
       "      <td>2019-01-22 03:56:17</td>\n",
       "      <td>GET</td>\n",
       "      <td>22</td>\n",
       "      <td>3</td>\n",
       "      <td>56</td>\n",
       "    </tr>\n",
       "  </tbody>\n",
       "</table>\n",
       "</div>"
      ],
      "text/plain": [
       "                        ip_address            datetime request_type  day  \\\n",
       "datetime                                                                   \n",
       "2019-01-22 03:56:14   54.36.149.41 2019-01-22 03:56:14          GET   22   \n",
       "2019-01-22 03:56:16    31.56.96.51 2019-01-22 03:56:16          GET   22   \n",
       "2019-01-22 03:56:16    31.56.96.51 2019-01-22 03:56:16          GET   22   \n",
       "2019-01-22 03:56:17  40.77.167.129 2019-01-22 03:56:17          GET   22   \n",
       "2019-01-22 03:56:17    91.99.72.15 2019-01-22 03:56:17          GET   22   \n",
       "\n",
       "                     hour  minute  \n",
       "datetime                           \n",
       "2019-01-22 03:56:14     3      56  \n",
       "2019-01-22 03:56:16     3      56  \n",
       "2019-01-22 03:56:16     3      56  \n",
       "2019-01-22 03:56:17     3      56  \n",
       "2019-01-22 03:56:17     3      56  "
      ]
     },
     "execution_count": 40,
     "metadata": {},
     "output_type": "execute_result"
    }
   ],
   "source": [
    "df.head()"
   ]
  },
  {
   "cell_type": "code",
   "execution_count": 41,
   "metadata": {},
   "outputs": [
    {
     "data": {
      "text/plain": [
       "<AxesSubplot:xlabel='datetime'>"
      ]
     },
     "execution_count": 41,
     "metadata": {},
     "output_type": "execute_result"
    },
    {
     "data": {
      "image/png": "[encoded data removed]",
      "text/plain": [
       "<Figure size 432x288 with 1 Axes>"
      ]
     },
     "metadata": {
      "needs_background": "light"
     },
     "output_type": "display_data"
    }
   ],
   "source": [
    "hits.plot()"
   ]
  },
  {
   "cell_type": "markdown",
   "metadata": {},
   "source": [
    "No need to split because we are not modeling, we are using statistics to identify low probability cases. "
   ]
  },
  {
   "cell_type": "markdown",
   "metadata": {},
   "source": [
    "## Exponential Moving Average\n",
    "\n",
    "SMA time series are much less noisy than the time series of the original data points. \n",
    "The challenge with SMA, however, is that the values of SMA lag the original values. This means that changes in the trend are only seen with a delay (lag) of L time units. \n",
    "\n",
    "Exponential Moving Average (EMA) helps reduce the lag induced by the use of the SMA. It does this by putting more weight on more recent observations, while the SMA weights all observations equally.\n",
    "\n",
    "The EMA function looks like this: \n",
    "\n",
    "$EMA_{t}= \\alpha * (t_{0} - EMA_{t-1}) + EMA_{t-1}$\n",
    "\n",
    "Where: \n",
    "\n",
    "- M = Number of time periods, span of the window\n",
    "\n",
    "- $t_{0}$ = Latest value\n",
    "\n",
    "- $t-1$ = Previous value\n",
    "\n",
    "- $EMA_{t-1}$ = Exponential moving average of previous day. \n",
    "\n",
    "- The multiplier: $\\alpha = \\frac{2}{M+1}$\n",
    "\n",
    "However, we will use the pandas ewm (Exponential Weighted functions) to compute our EMA. \n",
    "So we just need to define the following: \n",
    "\n",
    "- M = `span` argument = number of time periods. We will try 7 days, 14 days, and 30 days. \n",
    "\n",
    "- Notice how there are no missing values. ewm() will use as many values are available to compute the mean. So if the span is 7 days, but it is on the first day of data available, the EMA will equal the first value. "
   ]
  },
  {
   "cell_type": "code",
   "execution_count": 42,
   "metadata": {},
   "outputs": [
    {
     "data": {
      "text/plain": [
       "datetime\n",
       "2019-01-22 03:00:00     1285.000000\n",
       "2019-01-22 04:00:00     8819.857143\n",
       "2019-01-22 05:00:00    11434.837838\n",
       "2019-01-22 06:00:00    14332.085714\n",
       "2019-01-22 07:00:00    25302.362356\n",
       "Freq: H, Name: request_type, dtype: float64"
      ]
     },
     "execution_count": 42,
     "metadata": {},
     "output_type": "execute_result"
    }
   ],
   "source": [
    "# 7 hour EMA\n",
    "ema_7d = hits.ewm(span=7).mean()\n",
    "ema_7d.head()"
   ]
  },
  {
   "cell_type": "code",
   "execution_count": 43,
   "metadata": {},
   "outputs": [
    {
     "data": {
      "text/plain": [
       "datetime\n",
       "2019-01-22 03:00:00     1285.000000\n",
       "2019-01-22 04:00:00     8348.928571\n",
       "2019-01-22 05:00:00    10838.853990\n",
       "2019-01-22 06:00:00    13444.795141\n",
       "2019-01-22 07:00:00    22408.015522\n",
       "Freq: H, Name: request_type, dtype: float64"
      ]
     },
     "execution_count": 43,
     "metadata": {},
     "output_type": "execute_result"
    }
   ],
   "source": [
    "# 14 days EMA\n",
    "ema_14d = hits.ewm(span=14).mean()\n",
    "ema_14d.head()"
   ]
  },
  {
   "cell_type": "code",
   "execution_count": 44,
   "metadata": {},
   "outputs": [
    {
     "data": {
      "text/plain": [
       "datetime\n",
       "2019-01-22 03:00:00     1285.000000\n",
       "2019-01-22 04:00:00     8097.766667\n",
       "2019-01-22 05:00:00    10506.220289\n",
       "2019-01-22 06:00:00    12944.932630\n",
       "2019-01-22 07:00:00    20875.304333\n",
       "Freq: H, Name: request_type, dtype: float64"
      ]
     },
     "execution_count": 44,
     "metadata": {},
     "output_type": "execute_result"
    }
   ],
   "source": [
    "# 30 days EMA\n",
    "ema_30d = hits.ewm(span=30).mean()\n",
    "ema_30d.head()"
   ]
  },
  {
   "cell_type": "code",
   "execution_count": 45,
   "metadata": {},
   "outputs": [
    {
     "data": {
      "text/plain": [
       "datetime\n",
       "2019-01-22 03:00:00     1285.000000\n",
       "2019-01-22 04:00:00     7951.255556\n",
       "2019-01-22 05:00:00    10307.919057\n",
       "2019-01-22 06:00:00    12646.150611\n",
       "2019-01-22 07:00:00    19992.831795\n",
       "Freq: H, Name: request_type, dtype: float64"
      ]
     },
     "execution_count": 45,
     "metadata": {},
     "output_type": "execute_result"
    }
   ],
   "source": [
    "# 90 days EMA\n",
    "ema_90d = hits.ewm(span=90).mean()\n",
    "ema_90d.head()"
   ]
  },
  {
   "cell_type": "code",
   "execution_count": 46,
   "metadata": {},
   "outputs": [
    {
     "data": {
      "image/png": "[encoded data removed]",
      "text/plain": [
       "<Figure size 864x432 with 1 Axes>"
      ]
     },
     "metadata": {
      "needs_background": "light"
     },
     "output_type": "display_data"
    }
   ],
   "source": [
    "fig, ax = plt.subplots(figsize=(12,6))\n",
    "\n",
    "ax.plot(hits.index, hits, label='Pings', alpha=.5)\n",
    "\n",
    "ax.plot(hits.index, ema_7d, label = '7-hour EMA')\n",
    "ax.plot(hits.index, ema_14d, label = '14-hour EMA')\n",
    "ax.plot(hits.index, ema_30d, label = '30-hour EMA')\n",
    "ax.plot(hits.index, ema_90d, label = '30-hour EMA')\n",
    "\n",
    "ax.legend(loc='best')\n",
    "ax.set_ylabel('Size (MB)')\n",
    "\n",
    "plt.show()"
   ]
  },
  {
   "cell_type": "markdown",
   "metadata": {},
   "source": [
    "## Bollinger Bands and %b\n",
    "\n",
    "**Bollinger Bands**\n",
    "\n",
    "- a volatility indicator and commonly used in stock market trading. \n",
    "\n",
    "- Made up of 3 lines, the Upper Band (UB), the Lower Band (LB) and the Midband.  \n",
    "\n",
    "**Midband**\n",
    "\n",
    "- The Exponential Moving Average\n",
    "\n",
    "- `midband = train.ewm(span=30).mean()`\n",
    "\n",
    "**Upper & Lower Band**\n",
    "\n",
    "- UB/LB = Midband +/- stdev * K\n",
    "\n",
    "- `stdev = train.ewm(span=30).std()` \n",
    "\n",
    "- K = the number of standard deviations to go up and down from the EMA\n",
    "\n",
    "**%b, Percent Bandwidth**\n",
    "\n",
    "- Shows where the last value sits in relation to the bands\n",
    "\n",
    "- $\\%b = \\frac{last-LB}{UB-LB}$ \n",
    "\n",
    "- %b > 1 => point lies above UB\n",
    "\n",
    "- %b < 0 => point lies below LB\n",
    "\n",
    "- %b == .5 => point lies on the midband. \n",
    "\n",
    "**Bandwidth** \n",
    "\n",
    "- The width of the bands\n",
    "\n",
    "- $Bandwidth = \\frac{(UB-LB)}{Midband}$\n"
   ]
  },
  {
   "cell_type": "code",
   "execution_count": 47,
   "metadata": {},
   "outputs": [
    {
     "data": {
      "text/plain": [
       "datetime\n",
       "2019-01-22 03:00:00     1285.000000\n",
       "2019-01-22 04:00:00     8097.766667\n",
       "2019-01-22 05:00:00    10506.220289\n",
       "2019-01-22 06:00:00    12944.932630\n",
       "2019-01-22 07:00:00    20875.304333\n",
       "Freq: H, Name: request_type, dtype: float64"
      ]
     },
     "execution_count": 47,
     "metadata": {},
     "output_type": "execute_result"
    }
   ],
   "source": [
    "# set the window span\n",
    "span = 30\n",
    "\n",
    "# compute midband\n",
    "midband = hits.ewm(span=span).mean()\n",
    "\n",
    "midband.head()"
   ]
  },
  {
   "cell_type": "code",
   "execution_count": 48,
   "metadata": {},
   "outputs": [
    {
     "data": {
      "text/plain": [
       "datetime\n",
       "2019-01-22 03:00:00             NaN\n",
       "2019-01-22 04:00:00     9323.910017\n",
       "2019-01-22 05:00:00     7602.380961\n",
       "2019-01-22 06:00:00     7623.705075\n",
       "2019-01-22 07:00:00    17595.554263\n",
       "Freq: H, Name: request_type, dtype: float64"
      ]
     },
     "execution_count": 48,
     "metadata": {},
     "output_type": "execute_result"
    }
   ],
   "source": [
    "# compute exponential stdev\n",
    "stdev = hits.ewm(span=span).std()\n",
    "\n",
    "stdev.head()"
   ]
  },
  {
   "cell_type": "code",
   "execution_count": 49,
   "metadata": {},
   "outputs": [
    {
     "data": {
      "text/plain": [
       "datetime\n",
       "2019-01-22 03:00:00              NaN\n",
       "2019-01-22 04:00:00     36069.496717\n",
       "2019-01-22 05:00:00     33313.363172\n",
       "2019-01-22 06:00:00     35816.047855\n",
       "2019-01-22 07:00:00     73661.967124\n",
       "                           ...      \n",
       "2019-01-26 16:00:00    283793.030931\n",
       "2019-01-26 17:00:00    279491.739039\n",
       "2019-01-26 18:00:00    277004.585833\n",
       "2019-01-26 19:00:00    276442.638092\n",
       "2019-01-26 20:00:00    272370.177122\n",
       "Freq: H, Name: request_type, Length: 114, dtype: float64"
      ]
     },
     "execution_count": 49,
     "metadata": {},
     "output_type": "execute_result"
    }
   ],
   "source": [
    "# compute upper and lower bands\n",
    "ub = midband + stdev*3\n",
    "lb = midband - stdev*3\n",
    "ub"
   ]
  },
  {
   "cell_type": "code",
   "execution_count": 50,
   "metadata": {},
   "outputs": [
    {
     "data": {
      "text/plain": [
       "datetime\n",
       "2019-01-22 03:00:00             NaN\n",
       "2019-01-22 04:00:00   -19873.963384\n",
       "2019-01-22 05:00:00   -12300.922594\n",
       "2019-01-22 06:00:00    -9926.182594\n",
       "2019-01-22 07:00:00   -31911.358457\n",
       "                           ...     \n",
       "2019-01-26 16:00:00   -67083.326126\n",
       "2019-01-26 17:00:00   -60716.627128\n",
       "2019-01-26 18:00:00   -54652.409059\n",
       "2019-01-26 19:00:00   -49240.530637\n",
       "2019-01-26 20:00:00   -51737.290413\n",
       "Freq: H, Name: request_type, Length: 114, dtype: float64"
      ]
     },
     "execution_count": 50,
     "metadata": {},
     "output_type": "execute_result"
    }
   ],
   "source": [
    "lb"
   ]
  },
  {
   "cell_type": "code",
   "execution_count": 51,
   "metadata": {},
   "outputs": [
    {
     "data": {
      "text/html": [
       "<div>\n",
       "<style scoped>\n",
       "    .dataframe tbody tr th:only-of-type {\n",
       "        vertical-align: middle;\n",
       "    }\n",
       "\n",
       "    .dataframe tbody tr th {\n",
       "        vertical-align: top;\n",
       "    }\n",
       "\n",
       "    .dataframe thead th {\n",
       "        text-align: right;\n",
       "    }\n",
       "</style>\n",
       "<table border=\"1\" class=\"dataframe\">\n",
       "  <thead>\n",
       "    <tr style=\"text-align: right;\">\n",
       "      <th></th>\n",
       "      <th>ub</th>\n",
       "      <th>lb</th>\n",
       "    </tr>\n",
       "    <tr>\n",
       "      <th>datetime</th>\n",
       "      <th></th>\n",
       "      <th></th>\n",
       "    </tr>\n",
       "  </thead>\n",
       "  <tbody>\n",
       "    <tr>\n",
       "      <th>2019-01-22 03:00:00</th>\n",
       "      <td>NaN</td>\n",
       "      <td>NaN</td>\n",
       "    </tr>\n",
       "    <tr>\n",
       "      <th>2019-01-22 04:00:00</th>\n",
       "      <td>36069.496717</td>\n",
       "      <td>-19873.963384</td>\n",
       "    </tr>\n",
       "    <tr>\n",
       "      <th>2019-01-22 05:00:00</th>\n",
       "      <td>33313.363172</td>\n",
       "      <td>-12300.922594</td>\n",
       "    </tr>\n",
       "    <tr>\n",
       "      <th>2019-01-22 06:00:00</th>\n",
       "      <td>35816.047855</td>\n",
       "      <td>-9926.182594</td>\n",
       "    </tr>\n",
       "    <tr>\n",
       "      <th>2019-01-22 07:00:00</th>\n",
       "      <td>73661.967124</td>\n",
       "      <td>-31911.358457</td>\n",
       "    </tr>\n",
       "  </tbody>\n",
       "</table>\n",
       "</div>"
      ],
      "text/plain": [
       "                               ub            lb\n",
       "datetime                                       \n",
       "2019-01-22 03:00:00           NaN           NaN\n",
       "2019-01-22 04:00:00  36069.496717 -19873.963384\n",
       "2019-01-22 05:00:00  33313.363172 -12300.922594\n",
       "2019-01-22 06:00:00  35816.047855  -9926.182594\n",
       "2019-01-22 07:00:00  73661.967124 -31911.358457"
      ]
     },
     "execution_count": 51,
     "metadata": {},
     "output_type": "execute_result"
    }
   ],
   "source": [
    "# concatenate ub and lb together into one df, bb\n",
    "bb = pd.concat([ub, lb], axis=1)\n",
    "\n",
    "bb.columns = ['ub', 'lb']\n",
    "bb.head()"
   ]
  },
  {
   "cell_type": "code",
   "execution_count": 52,
   "metadata": {},
   "outputs": [
    {
     "data": {
      "text/html": [
       "<div>\n",
       "<style scoped>\n",
       "    .dataframe tbody tr th:only-of-type {\n",
       "        vertical-align: middle;\n",
       "    }\n",
       "\n",
       "    .dataframe tbody tr th {\n",
       "        vertical-align: top;\n",
       "    }\n",
       "\n",
       "    .dataframe thead th {\n",
       "        text-align: right;\n",
       "    }\n",
       "</style>\n",
       "<table border=\"1\" class=\"dataframe\">\n",
       "  <thead>\n",
       "    <tr style=\"text-align: right;\">\n",
       "      <th></th>\n",
       "      <th>hits</th>\n",
       "      <th>midband</th>\n",
       "      <th>ub</th>\n",
       "      <th>lb</th>\n",
       "    </tr>\n",
       "    <tr>\n",
       "      <th>datetime</th>\n",
       "      <th></th>\n",
       "      <th></th>\n",
       "      <th></th>\n",
       "      <th></th>\n",
       "    </tr>\n",
       "  </thead>\n",
       "  <tbody>\n",
       "    <tr>\n",
       "      <th>2019-01-22 03:00:00</th>\n",
       "      <td>1285</td>\n",
       "      <td>1285.000000</td>\n",
       "      <td>NaN</td>\n",
       "      <td>NaN</td>\n",
       "    </tr>\n",
       "    <tr>\n",
       "      <th>2019-01-22 04:00:00</th>\n",
       "      <td>14471</td>\n",
       "      <td>8097.766667</td>\n",
       "      <td>36069.496717</td>\n",
       "      <td>-19873.963384</td>\n",
       "    </tr>\n",
       "    <tr>\n",
       "      <th>2019-01-22 05:00:00</th>\n",
       "      <td>14867</td>\n",
       "      <td>10506.220289</td>\n",
       "      <td>33313.363172</td>\n",
       "      <td>-12300.922594</td>\n",
       "    </tr>\n",
       "    <tr>\n",
       "      <th>2019-01-22 06:00:00</th>\n",
       "      <td>19357</td>\n",
       "      <td>12944.932630</td>\n",
       "      <td>35816.047855</td>\n",
       "      <td>-9926.182594</td>\n",
       "    </tr>\n",
       "    <tr>\n",
       "      <th>2019-01-22 07:00:00</th>\n",
       "      <td>47800</td>\n",
       "      <td>20875.304333</td>\n",
       "      <td>73661.967124</td>\n",
       "      <td>-31911.358457</td>\n",
       "    </tr>\n",
       "  </tbody>\n",
       "</table>\n",
       "</div>"
      ],
      "text/plain": [
       "                      hits       midband            ub            lb\n",
       "datetime                                                            \n",
       "2019-01-22 03:00:00   1285   1285.000000           NaN           NaN\n",
       "2019-01-22 04:00:00  14471   8097.766667  36069.496717 -19873.963384\n",
       "2019-01-22 05:00:00  14867  10506.220289  33313.363172 -12300.922594\n",
       "2019-01-22 06:00:00  19357  12944.932630  35816.047855  -9926.182594\n",
       "2019-01-22 07:00:00  47800  20875.304333  73661.967124 -31911.358457"
      ]
     },
     "execution_count": 52,
     "metadata": {},
     "output_type": "execute_result"
    }
   ],
   "source": [
    "my_df = pd.concat([hits, midband, bb], axis=1)\n",
    "my_df.columns = ['hits', 'midband', 'ub', 'lb']\n",
    "my_df.head()"
   ]
  },
  {
   "cell_type": "markdown",
   "metadata": {},
   "source": [
    "Plot the bands"
   ]
  },
  {
   "cell_type": "code",
   "execution_count": 53,
   "metadata": {},
   "outputs": [
    {
     "data": {
      "image/png": "[encoded data removed]",
      "text/plain": [
       "<Figure size 864x576 with 1 Axes>"
      ]
     },
     "metadata": {
      "needs_background": "light"
     },
     "output_type": "display_data"
    }
   ],
   "source": [
    "fig, ax = plt.subplots(figsize=(12,8))\n",
    "\n",
    "ax.plot(my_df.index, my_df.hits, label='Number of Pages')\n",
    "\n",
    "ax.plot(my_df.index, my_df.midband, label = '30-day EMA/midband')\n",
    "ax.plot(my_df.index, my_df.ub, label = 'Upper Band')\n",
    "ax.plot(my_df.index, my_df.lb, label = 'Lower Band')\n",
    "\n",
    "ax.legend(loc='best')\n",
    "ax.set_ylabel('hits')\n",
    "\n",
    "plt.show()"
   ]
  },
  {
   "cell_type": "markdown",
   "metadata": {},
   "source": [
    "Compute %b\n",
    "\n",
    "$\\%b = \\frac{last-LB}{UB-LB}$ \n",
    "\n",
    "Each row/time period, will have a %b value that answers the question, where does this point sit with respect to the expected value when considering the values before it. For example, we could take the last value in train and manually compute %b: "
   ]
  },
  {
   "cell_type": "code",
   "execution_count": 31,
   "metadata": {},
   "outputs": [],
   "source": [
    "# get the last measure of gb\n",
    "last_measure = my_df.iloc[-1].hits"
   ]
  },
  {
   "cell_type": "code",
   "execution_count": 32,
   "metadata": {},
   "outputs": [
    {
     "data": {
      "text/plain": [
       "-51737.29041286727"
      ]
     },
     "execution_count": 32,
     "metadata": {},
     "output_type": "execute_result"
    }
   ],
   "source": [
    "# get the lower band value on the last date\n",
    "last_lb = my_df.iloc[-1].lb\n",
    "last_lb"
   ]
  },
  {
   "cell_type": "code",
   "execution_count": 33,
   "metadata": {},
   "outputs": [
    {
     "data": {
      "text/plain": [
       "272370.17712229746"
      ]
     },
     "execution_count": 33,
     "metadata": {},
     "output_type": "execute_result"
    }
   ],
   "source": [
    "# get the upper band value on the last date\n",
    "last_ub = my_df.iloc[-1].ub\n",
    "last_ub"
   ]
  },
  {
   "cell_type": "code",
   "execution_count": 34,
   "metadata": {},
   "outputs": [
    {
     "name": "stdout",
     "output_type": "stream",
     "text": [
      "%b for last datapoint:  0.35\n"
     ]
    }
   ],
   "source": [
    "# compute %b\n",
    "last_pct_b = (last_measure - last_lb)/(last_ub - last_lb)\n",
    "\n",
    "print('%b for last datapoint: ', round(last_pct_b, 2))"
   ]
  },
  {
   "cell_type": "code",
   "execution_count": 35,
   "metadata": {},
   "outputs": [
    {
     "data": {
      "text/html": [
       "<div>\n",
       "<style scoped>\n",
       "    .dataframe tbody tr th:only-of-type {\n",
       "        vertical-align: middle;\n",
       "    }\n",
       "\n",
       "    .dataframe tbody tr th {\n",
       "        vertical-align: top;\n",
       "    }\n",
       "\n",
       "    .dataframe thead th {\n",
       "        text-align: right;\n",
       "    }\n",
       "</style>\n",
       "<table border=\"1\" class=\"dataframe\">\n",
       "  <thead>\n",
       "    <tr style=\"text-align: right;\">\n",
       "      <th></th>\n",
       "      <th>hits</th>\n",
       "      <th>midband</th>\n",
       "      <th>ub</th>\n",
       "      <th>lb</th>\n",
       "    </tr>\n",
       "    <tr>\n",
       "      <th>datetime</th>\n",
       "      <th></th>\n",
       "      <th></th>\n",
       "      <th></th>\n",
       "      <th></th>\n",
       "    </tr>\n",
       "  </thead>\n",
       "  <tbody>\n",
       "    <tr>\n",
       "      <th>2019-01-26 18:00:00</th>\n",
       "      <td>137094</td>\n",
       "      <td>111176.088387</td>\n",
       "      <td>277004.585833</td>\n",
       "      <td>-54652.409059</td>\n",
       "    </tr>\n",
       "    <tr>\n",
       "      <th>2019-01-26 19:00:00</th>\n",
       "      <td>148743</td>\n",
       "      <td>113601.053727</td>\n",
       "      <td>276442.638092</td>\n",
       "      <td>-49240.530637</td>\n",
       "    </tr>\n",
       "    <tr>\n",
       "      <th>2019-01-26 20:00:00</th>\n",
       "      <td>62715</td>\n",
       "      <td>110316.443355</td>\n",
       "      <td>272370.177122</td>\n",
       "      <td>-51737.290413</td>\n",
       "    </tr>\n",
       "  </tbody>\n",
       "</table>\n",
       "</div>"
      ],
      "text/plain": [
       "                       hits        midband             ub            lb\n",
       "datetime                                                               \n",
       "2019-01-26 18:00:00  137094  111176.088387  277004.585833 -54652.409059\n",
       "2019-01-26 19:00:00  148743  113601.053727  276442.638092 -49240.530637\n",
       "2019-01-26 20:00:00   62715  110316.443355  272370.177122 -51737.290413"
      ]
     },
     "execution_count": 35,
     "metadata": {},
     "output_type": "execute_result"
    }
   ],
   "source": [
    "my_df.tail(3)"
   ]
  },
  {
   "cell_type": "markdown",
   "metadata": {},
   "source": [
    "So, to compute for each point in time: "
   ]
  },
  {
   "cell_type": "code",
   "execution_count": 37,
   "metadata": {},
   "outputs": [
    {
     "data": {
      "text/html": [
       "<div>\n",
       "<style scoped>\n",
       "    .dataframe tbody tr th:only-of-type {\n",
       "        vertical-align: middle;\n",
       "    }\n",
       "\n",
       "    .dataframe tbody tr th {\n",
       "        vertical-align: top;\n",
       "    }\n",
       "\n",
       "    .dataframe thead th {\n",
       "        text-align: right;\n",
       "    }\n",
       "</style>\n",
       "<table border=\"1\" class=\"dataframe\">\n",
       "  <thead>\n",
       "    <tr style=\"text-align: right;\">\n",
       "      <th></th>\n",
       "      <th>hits</th>\n",
       "      <th>midband</th>\n",
       "      <th>ub</th>\n",
       "      <th>lb</th>\n",
       "      <th>pct_b</th>\n",
       "    </tr>\n",
       "    <tr>\n",
       "      <th>datetime</th>\n",
       "      <th></th>\n",
       "      <th></th>\n",
       "      <th></th>\n",
       "      <th></th>\n",
       "      <th></th>\n",
       "    </tr>\n",
       "  </thead>\n",
       "  <tbody>\n",
       "    <tr>\n",
       "      <th>2019-01-22 03:00:00</th>\n",
       "      <td>1285</td>\n",
       "      <td>1285.000000</td>\n",
       "      <td>NaN</td>\n",
       "      <td>NaN</td>\n",
       "      <td>NaN</td>\n",
       "    </tr>\n",
       "    <tr>\n",
       "      <th>2019-01-22 04:00:00</th>\n",
       "      <td>14471</td>\n",
       "      <td>8097.766667</td>\n",
       "      <td>36069.496717</td>\n",
       "      <td>-19873.963384</td>\n",
       "      <td>0.613923</td>\n",
       "    </tr>\n",
       "    <tr>\n",
       "      <th>2019-01-22 05:00:00</th>\n",
       "      <td>14867</td>\n",
       "      <td>10506.220289</td>\n",
       "      <td>33313.363172</td>\n",
       "      <td>-12300.922594</td>\n",
       "      <td>0.595601</td>\n",
       "    </tr>\n",
       "    <tr>\n",
       "      <th>2019-01-22 06:00:00</th>\n",
       "      <td>19357</td>\n",
       "      <td>12944.932630</td>\n",
       "      <td>35816.047855</td>\n",
       "      <td>-9926.182594</td>\n",
       "      <td>0.640178</td>\n",
       "    </tr>\n",
       "    <tr>\n",
       "      <th>2019-01-22 07:00:00</th>\n",
       "      <td>47800</td>\n",
       "      <td>20875.304333</td>\n",
       "      <td>73661.967124</td>\n",
       "      <td>-31911.358457</td>\n",
       "      <td>0.755033</td>\n",
       "    </tr>\n",
       "  </tbody>\n",
       "</table>\n",
       "</div>"
      ],
      "text/plain": [
       "                      hits       midband            ub            lb     pct_b\n",
       "datetime                                                                      \n",
       "2019-01-22 03:00:00   1285   1285.000000           NaN           NaN       NaN\n",
       "2019-01-22 04:00:00  14471   8097.766667  36069.496717 -19873.963384  0.613923\n",
       "2019-01-22 05:00:00  14867  10506.220289  33313.363172 -12300.922594  0.595601\n",
       "2019-01-22 06:00:00  19357  12944.932630  35816.047855  -9926.182594  0.640178\n",
       "2019-01-22 07:00:00  47800  20875.304333  73661.967124 -31911.358457  0.755033"
      ]
     },
     "execution_count": 37,
     "metadata": {},
     "output_type": "execute_result"
    }
   ],
   "source": [
    "my_df['pct_b'] = (my_df['hits'] - my_df['lb'])/(my_df['ub'] - my_df['lb'])\n",
    "\n",
    "my_df.head()"
   ]
  },
  {
   "cell_type": "markdown",
   "metadata": {},
   "source": [
    "Now, where do we see anomalies? We will search for %b values > 1. We don't need to search for values < 0 because with this example, a low extreme is not something we are concerned about. "
   ]
  },
  {
   "cell_type": "code",
   "execution_count": 38,
   "metadata": {},
   "outputs": [
    {
     "data": {
      "text/html": [
       "<div>\n",
       "<style scoped>\n",
       "    .dataframe tbody tr th:only-of-type {\n",
       "        vertical-align: middle;\n",
       "    }\n",
       "\n",
       "    .dataframe tbody tr th {\n",
       "        vertical-align: top;\n",
       "    }\n",
       "\n",
       "    .dataframe thead th {\n",
       "        text-align: right;\n",
       "    }\n",
       "</style>\n",
       "<table border=\"1\" class=\"dataframe\">\n",
       "  <thead>\n",
       "    <tr style=\"text-align: right;\">\n",
       "      <th></th>\n",
       "      <th>hits</th>\n",
       "      <th>midband</th>\n",
       "      <th>ub</th>\n",
       "      <th>lb</th>\n",
       "      <th>pct_b</th>\n",
       "    </tr>\n",
       "    <tr>\n",
       "      <th>datetime</th>\n",
       "      <th></th>\n",
       "      <th></th>\n",
       "      <th></th>\n",
       "      <th></th>\n",
       "      <th></th>\n",
       "    </tr>\n",
       "  </thead>\n",
       "  <tbody>\n",
       "  </tbody>\n",
       "</table>\n",
       "</div>"
      ],
      "text/plain": [
       "Empty DataFrame\n",
       "Columns: [hits, midband, ub, lb, pct_b]\n",
       "Index: []"
      ]
     },
     "execution_count": 38,
     "metadata": {},
     "output_type": "execute_result"
    }
   ],
   "source": [
    "my_df[my_df['pct_b']>1]"
   ]
  },
  {
   "cell_type": "markdown",
   "metadata": {},
   "source": [
    "## Pull it all together!"
   ]
  },
  {
   "cell_type": "markdown",
   "metadata": {},
   "source": [
    "1. acquire\n",
    "2. prep with user\n",
    "3. compute features\n",
    "    - compute midband\n",
    "    - compute standard deviation\n",
    "    - compute upper & lower band\n",
    "    - create df with metrics\n",
    "    - compute %b\n",
    "    - add user_id to dataframe\n",
    "4. Plot\n",
    "5. search for anomalies"
   ]
  },
  {
   "cell_type": "code",
   "execution_count": 71,
   "metadata": {},
   "outputs": [],
   "source": [
    "def acquire(file_name, column_names):\n",
    "    return pd.read_csv(file_name, sep=\"\\s\", header=None, names=column_names, usecols=[0, 2, 3, 4, 5])\n",
    "\n",
    "def prep(df, user):\n",
    "    df = df[df.user_id == user]\n",
    "    df.date = pd.to_datetime(df.date)\n",
    "    df = df.set_index(df.date)\n",
    "    pages = df['endpoint'].resample('d').count()\n",
    "    return pages\n",
    "\n",
    "def compute_pct_b(pages, span, weight, user):\n",
    "    midband = pages.ewm(span=span).mean()\n",
    "    stdev = pages.ewm(span=span).std()\n",
    "    ub = midband + stdev*weight\n",
    "    lb = midband - stdev*weight\n",
    "    bb = pd.concat([ub, lb], axis=1)\n",
    "    my_df = pd.concat([pages, midband, bb], axis=1)\n",
    "    my_df.columns = ['pages', 'midband', 'ub', 'lb']\n",
    "    my_df['pct_b'] = (my_df['pages'] - my_df['lb'])/(my_df['ub'] - my_df['lb'])\n",
    "    my_df['user_id'] = user\n",
    "    return my_df\n",
    "\n",
    "def plt_bands(my_df, user):\n",
    "    fig, ax = plt.subplots(figsize=(12,8))\n",
    "    ax.plot(my_df.index, my_df.pages, label='Number of Pages, User: '+str(user))\n",
    "    ax.plot(my_df.index, my_df.midband, label = 'EMA/midband')\n",
    "    ax.plot(my_df.index, my_df.ub, label = 'Upper Band')\n",
    "    ax.plot(my_df.index, my_df.lb, label = 'Lower Band')\n",
    "    ax.legend(loc='best')\n",
    "    ax.set_ylabel('Number of Pages')\n",
    "    plt.show()\n",
    "    \n",
    "def find_anomalies(df, user, span, weight):\n",
    "    pages = prep(df, user)\n",
    "    my_df = compute_pct_b(pages, span, weight, user)\n",
    "    # plt_bands(my_df, user)\n",
    "    return my_df[my_df.pct_b>1]"
   ]
  },
  {
   "cell_type": "markdown",
   "metadata": {},
   "source": [
    "Acquire"
   ]
  },
  {
   "cell_type": "code",
   "execution_count": 72,
   "metadata": {},
   "outputs": [
    {
     "data": {
      "text/html": [
       "<div>\n",
       "<style scoped>\n",
       "    .dataframe tbody tr th:only-of-type {\n",
       "        vertical-align: middle;\n",
       "    }\n",
       "\n",
       "    .dataframe tbody tr th {\n",
       "        vertical-align: top;\n",
       "    }\n",
       "\n",
       "    .dataframe thead th {\n",
       "        text-align: right;\n",
       "    }\n",
       "</style>\n",
       "<table border=\"1\" class=\"dataframe\">\n",
       "  <thead>\n",
       "    <tr style=\"text-align: right;\">\n",
       "      <th></th>\n",
       "      <th>date</th>\n",
       "      <th>endpoint</th>\n",
       "      <th>user_id</th>\n",
       "      <th>cohort_id</th>\n",
       "      <th>source_ip</th>\n",
       "    </tr>\n",
       "  </thead>\n",
       "  <tbody>\n",
       "    <tr>\n",
       "      <th>0</th>\n",
       "      <td>2018-01-26</td>\n",
       "      <td>/</td>\n",
       "      <td>1</td>\n",
       "      <td>8.0</td>\n",
       "      <td>97.105.19.61</td>\n",
       "    </tr>\n",
       "    <tr>\n",
       "      <th>1</th>\n",
       "      <td>2018-01-26</td>\n",
       "      <td>java-ii</td>\n",
       "      <td>1</td>\n",
       "      <td>8.0</td>\n",
       "      <td>97.105.19.61</td>\n",
       "    </tr>\n",
       "    <tr>\n",
       "      <th>2</th>\n",
       "      <td>2018-01-26</td>\n",
       "      <td>java-ii/object-oriented-programming</td>\n",
       "      <td>1</td>\n",
       "      <td>8.0</td>\n",
       "      <td>97.105.19.61</td>\n",
       "    </tr>\n",
       "    <tr>\n",
       "      <th>3</th>\n",
       "      <td>2018-01-26</td>\n",
       "      <td>slides/object_oriented_programming</td>\n",
       "      <td>1</td>\n",
       "      <td>8.0</td>\n",
       "      <td>97.105.19.61</td>\n",
       "    </tr>\n",
       "    <tr>\n",
       "      <th>4</th>\n",
       "      <td>2018-01-26</td>\n",
       "      <td>javascript-i/conditionals</td>\n",
       "      <td>2</td>\n",
       "      <td>22.0</td>\n",
       "      <td>97.105.19.61</td>\n",
       "    </tr>\n",
       "  </tbody>\n",
       "</table>\n",
       "</div>"
      ],
      "text/plain": [
       "         date                             endpoint  user_id  cohort_id  \\\n",
       "0  2018-01-26                                    /        1        8.0   \n",
       "1  2018-01-26                              java-ii        1        8.0   \n",
       "2  2018-01-26  java-ii/object-oriented-programming        1        8.0   \n",
       "3  2018-01-26   slides/object_oriented_programming        1        8.0   \n",
       "4  2018-01-26            javascript-i/conditionals        2       22.0   \n",
       "\n",
       "      source_ip  \n",
       "0  97.105.19.61  \n",
       "1  97.105.19.61  \n",
       "2  97.105.19.61  \n",
       "3  97.105.19.61  \n",
       "4  97.105.19.61  "
      ]
     },
     "execution_count": 72,
     "metadata": {},
     "output_type": "execute_result"
    }
   ],
   "source": [
    "file_name = \"anonymized-curriculum-access.txt\"\n",
    "column_names = ['date', 'endpoint', 'user_id', 'cohort_id', 'source_ip']\n",
    "df = acquire(file_name, column_names)\n",
    "df.head()"
   ]
  },
  {
   "cell_type": "markdown",
   "metadata": {},
   "source": [
    "Test on a single user"
   ]
  },
  {
   "cell_type": "code",
   "execution_count": 73,
   "metadata": {},
   "outputs": [],
   "source": [
    "user = 1\n",
    "span = 30\n",
    "weight = 6\n",
    "user_df = find_anomalies(df, user, span, weight)\n",
    "\n",
    "anomalies = pd.DataFrame()\n",
    "user_df = find_anomalies(df, user, span, weight)\n",
    "anomalies = pd.concat([anomalies, user_df], axis=0)"
   ]
  },
  {
   "cell_type": "markdown",
   "metadata": {},
   "source": [
    "Loop through all users "
   ]
  },
  {
   "cell_type": "code",
   "execution_count": 74,
   "metadata": {},
   "outputs": [],
   "source": [
    "span = 30\n",
    "weight = 3.5\n",
    "\n",
    "anomalies = pd.DataFrame()\n",
    "for u in list(df.user_id.unique()):\n",
    "    user_df = find_anomalies(df, u, span, weight)\n",
    "    anomalies = pd.concat([anomalies, user_df], axis=0)"
   ]
  },
  {
   "cell_type": "markdown",
   "metadata": {},
   "source": [
    "Explore anomalies"
   ]
  },
  {
   "cell_type": "code",
   "execution_count": 75,
   "metadata": {},
   "outputs": [
    {
     "data": {
      "text/plain": [
       "1      48\n",
       "2      36\n",
       "3      71\n",
       "4      76\n",
       "5      58\n",
       "       ..\n",
       "165     1\n",
       "179     1\n",
       "192     1\n",
       "198     1\n",
       "272     1\n",
       "Name: pages, Length: 99, dtype: int64"
      ]
     },
     "execution_count": 75,
     "metadata": {},
     "output_type": "execute_result"
    }
   ],
   "source": [
    "anomalies.pages.value_counts(sort=False)"
   ]
  },
  {
   "cell_type": "code",
   "execution_count": 76,
   "metadata": {},
   "outputs": [
    {
     "data": {
      "text/html": [
       "<div>\n",
       "<style scoped>\n",
       "    .dataframe tbody tr th:only-of-type {\n",
       "        vertical-align: middle;\n",
       "    }\n",
       "\n",
       "    .dataframe tbody tr th {\n",
       "        vertical-align: top;\n",
       "    }\n",
       "\n",
       "    .dataframe thead th {\n",
       "        text-align: right;\n",
       "    }\n",
       "</style>\n",
       "<table border=\"1\" class=\"dataframe\">\n",
       "  <thead>\n",
       "    <tr style=\"text-align: right;\">\n",
       "      <th></th>\n",
       "      <th>pages</th>\n",
       "      <th>midband</th>\n",
       "      <th>ub</th>\n",
       "      <th>lb</th>\n",
       "      <th>pct_b</th>\n",
       "      <th>user_id</th>\n",
       "    </tr>\n",
       "    <tr>\n",
       "      <th>date</th>\n",
       "      <th></th>\n",
       "      <th></th>\n",
       "      <th></th>\n",
       "      <th></th>\n",
       "      <th></th>\n",
       "      <th></th>\n",
       "    </tr>\n",
       "  </thead>\n",
       "  <tbody>\n",
       "    <tr>\n",
       "      <th>2019-03-03</th>\n",
       "      <td>272</td>\n",
       "      <td>24.721632</td>\n",
       "      <td>266.780128</td>\n",
       "      <td>-217.336864</td>\n",
       "      <td>1.010782</td>\n",
       "      <td>341</td>\n",
       "    </tr>\n",
       "  </tbody>\n",
       "</table>\n",
       "</div>"
      ],
      "text/plain": [
       "            pages    midband          ub          lb     pct_b  user_id\n",
       "date                                                                   \n",
       "2019-03-03    272  24.721632  266.780128 -217.336864  1.010782      341"
      ]
     },
     "execution_count": 76,
     "metadata": {},
     "output_type": "execute_result"
    }
   ],
   "source": [
    "anomalies[anomalies.pages==272]"
   ]
  },
  {
   "cell_type": "markdown",
   "metadata": {},
   "source": [
    "hmmmmmmmmmmm......."
   ]
  },
  {
   "cell_type": "code",
   "execution_count": 77,
   "metadata": {},
   "outputs": [
    {
     "data": {
      "text/html": [
       "<div>\n",
       "<style scoped>\n",
       "    .dataframe tbody tr th:only-of-type {\n",
       "        vertical-align: middle;\n",
       "    }\n",
       "\n",
       "    .dataframe tbody tr th {\n",
       "        vertical-align: top;\n",
       "    }\n",
       "\n",
       "    .dataframe thead th {\n",
       "        text-align: right;\n",
       "    }\n",
       "</style>\n",
       "<table border=\"1\" class=\"dataframe\">\n",
       "  <thead>\n",
       "    <tr style=\"text-align: right;\">\n",
       "      <th></th>\n",
       "      <th>pages</th>\n",
       "      <th>midband</th>\n",
       "      <th>ub</th>\n",
       "      <th>lb</th>\n",
       "      <th>pct_b</th>\n",
       "      <th>user_id</th>\n",
       "    </tr>\n",
       "    <tr>\n",
       "      <th>date</th>\n",
       "      <th></th>\n",
       "      <th></th>\n",
       "      <th></th>\n",
       "      <th></th>\n",
       "      <th></th>\n",
       "      <th></th>\n",
       "    </tr>\n",
       "  </thead>\n",
       "  <tbody>\n",
       "    <tr>\n",
       "      <th>2019-03-03</th>\n",
       "      <td>272</td>\n",
       "      <td>24.721632</td>\n",
       "      <td>266.780128</td>\n",
       "      <td>-217.336864</td>\n",
       "      <td>1.010782</td>\n",
       "      <td>341</td>\n",
       "    </tr>\n",
       "    <tr>\n",
       "      <th>2020-02-18</th>\n",
       "      <td>3</td>\n",
       "      <td>0.193548</td>\n",
       "      <td>2.817185</td>\n",
       "      <td>-2.430088</td>\n",
       "      <td>1.034840</td>\n",
       "      <td>341</td>\n",
       "    </tr>\n",
       "    <tr>\n",
       "      <th>2020-04-21</th>\n",
       "      <td>109</td>\n",
       "      <td>7.250725</td>\n",
       "      <td>102.413277</td>\n",
       "      <td>-87.911826</td>\n",
       "      <td>1.034608</td>\n",
       "      <td>341</td>\n",
       "    </tr>\n",
       "    <tr>\n",
       "      <th>2021-02-09</th>\n",
       "      <td>10</td>\n",
       "      <td>0.659630</td>\n",
       "      <td>9.508602</td>\n",
       "      <td>-8.189342</td>\n",
       "      <td>1.027766</td>\n",
       "      <td>341</td>\n",
       "    </tr>\n",
       "  </tbody>\n",
       "</table>\n",
       "</div>"
      ],
      "text/plain": [
       "            pages    midband          ub          lb     pct_b  user_id\n",
       "date                                                                   \n",
       "2019-03-03    272  24.721632  266.780128 -217.336864  1.010782      341\n",
       "2020-02-18      3   0.193548    2.817185   -2.430088  1.034840      341\n",
       "2020-04-21    109   7.250725  102.413277  -87.911826  1.034608      341\n",
       "2021-02-09     10   0.659630    9.508602   -8.189342  1.027766      341"
      ]
     },
     "execution_count": 77,
     "metadata": {},
     "output_type": "execute_result"
    }
   ],
   "source": [
    "anomalies[anomalies.user_id==341]"
   ]
  },
  {
   "cell_type": "code",
   "execution_count": 78,
   "metadata": {},
   "outputs": [
    {
     "data": {
      "text/html": [
       "<div>\n",
       "<style scoped>\n",
       "    .dataframe tbody tr th:only-of-type {\n",
       "        vertical-align: middle;\n",
       "    }\n",
       "\n",
       "    .dataframe tbody tr th {\n",
       "        vertical-align: top;\n",
       "    }\n",
       "\n",
       "    .dataframe thead th {\n",
       "        text-align: right;\n",
       "    }\n",
       "</style>\n",
       "<table border=\"1\" class=\"dataframe\">\n",
       "  <thead>\n",
       "    <tr style=\"text-align: right;\">\n",
       "      <th></th>\n",
       "      <th>date</th>\n",
       "      <th>endpoint</th>\n",
       "      <th>user_id</th>\n",
       "      <th>cohort_id</th>\n",
       "      <th>source_ip</th>\n",
       "    </tr>\n",
       "  </thead>\n",
       "  <tbody>\n",
       "    <tr>\n",
       "      <th>181808</th>\n",
       "      <td>2019-01-22</td>\n",
       "      <td>/</td>\n",
       "      <td>341</td>\n",
       "      <td>29.0</td>\n",
       "      <td>97.105.19.58</td>\n",
       "    </tr>\n",
       "    <tr>\n",
       "      <th>181826</th>\n",
       "      <td>2019-01-22</td>\n",
       "      <td>toc</td>\n",
       "      <td>341</td>\n",
       "      <td>29.0</td>\n",
       "      <td>97.105.19.58</td>\n",
       "    </tr>\n",
       "    <tr>\n",
       "      <th>181840</th>\n",
       "      <td>2019-01-22</td>\n",
       "      <td>html-css</td>\n",
       "      <td>341</td>\n",
       "      <td>29.0</td>\n",
       "      <td>97.105.19.58</td>\n",
       "    </tr>\n",
       "    <tr>\n",
       "      <th>181862</th>\n",
       "      <td>2019-01-22</td>\n",
       "      <td>html-css/introduction</td>\n",
       "      <td>341</td>\n",
       "      <td>29.0</td>\n",
       "      <td>97.105.19.58</td>\n",
       "    </tr>\n",
       "    <tr>\n",
       "      <th>181870</th>\n",
       "      <td>2019-01-22</td>\n",
       "      <td>html-css/elements</td>\n",
       "      <td>341</td>\n",
       "      <td>29.0</td>\n",
       "      <td>97.105.19.58</td>\n",
       "    </tr>\n",
       "    <tr>\n",
       "      <th>...</th>\n",
       "      <td>...</td>\n",
       "      <td>...</td>\n",
       "      <td>...</td>\n",
       "      <td>...</td>\n",
       "      <td>...</td>\n",
       "    </tr>\n",
       "    <tr>\n",
       "      <th>817183</th>\n",
       "      <td>2021-02-09</td>\n",
       "      <td>search/search_index.json</td>\n",
       "      <td>341</td>\n",
       "      <td>29.0</td>\n",
       "      <td>172.124.70.146</td>\n",
       "    </tr>\n",
       "    <tr>\n",
       "      <th>817184</th>\n",
       "      <td>2021-02-09</td>\n",
       "      <td>appendix/further-reading/spring/seeder</td>\n",
       "      <td>341</td>\n",
       "      <td>29.0</td>\n",
       "      <td>172.124.70.146</td>\n",
       "    </tr>\n",
       "    <tr>\n",
       "      <th>817268</th>\n",
       "      <td>2021-02-10</td>\n",
       "      <td>appendix/code-standards/mysql</td>\n",
       "      <td>341</td>\n",
       "      <td>29.0</td>\n",
       "      <td>172.124.70.146</td>\n",
       "    </tr>\n",
       "    <tr>\n",
       "      <th>817269</th>\n",
       "      <td>2021-02-10</td>\n",
       "      <td>appendix/further-reading/spring/pagination</td>\n",
       "      <td>341</td>\n",
       "      <td>29.0</td>\n",
       "      <td>172.124.70.146</td>\n",
       "    </tr>\n",
       "    <tr>\n",
       "      <th>817270</th>\n",
       "      <td>2021-02-10</td>\n",
       "      <td>appendix/further-reading/spring/seeder</td>\n",
       "      <td>341</td>\n",
       "      <td>29.0</td>\n",
       "      <td>172.124.70.146</td>\n",
       "    </tr>\n",
       "  </tbody>\n",
       "</table>\n",
       "<p>1581 rows × 5 columns</p>\n",
       "</div>"
      ],
      "text/plain": [
       "              date                                    endpoint  user_id  \\\n",
       "181808  2019-01-22                                           /      341   \n",
       "181826  2019-01-22                                         toc      341   \n",
       "181840  2019-01-22                                    html-css      341   \n",
       "181862  2019-01-22                       html-css/introduction      341   \n",
       "181870  2019-01-22                           html-css/elements      341   \n",
       "...            ...                                         ...      ...   \n",
       "817183  2021-02-09                    search/search_index.json      341   \n",
       "817184  2021-02-09      appendix/further-reading/spring/seeder      341   \n",
       "817268  2021-02-10               appendix/code-standards/mysql      341   \n",
       "817269  2021-02-10  appendix/further-reading/spring/pagination      341   \n",
       "817270  2021-02-10      appendix/further-reading/spring/seeder      341   \n",
       "\n",
       "        cohort_id       source_ip  \n",
       "181808       29.0    97.105.19.58  \n",
       "181826       29.0    97.105.19.58  \n",
       "181840       29.0    97.105.19.58  \n",
       "181862       29.0    97.105.19.58  \n",
       "181870       29.0    97.105.19.58  \n",
       "...           ...             ...  \n",
       "817183       29.0  172.124.70.146  \n",
       "817184       29.0  172.124.70.146  \n",
       "817268       29.0  172.124.70.146  \n",
       "817269       29.0  172.124.70.146  \n",
       "817270       29.0  172.124.70.146  \n",
       "\n",
       "[1581 rows x 5 columns]"
      ]
     },
     "execution_count": 78,
     "metadata": {},
     "output_type": "execute_result"
    }
   ],
   "source": [
    "df[df.user_id==341]"
   ]
  },
  {
   "cell_type": "markdown",
   "metadata": {},
   "source": [
    "This is worth investigating! "
   ]
  },
  {
   "cell_type": "markdown",
   "metadata": {},
   "source": [
    "## Exercises\n",
    "\n",
    "**file name:** time_series_anomaly_detection.py or time_series_anomaly_detection.ipynb\n",
    "\n",
    "The dataset for these exercises lives in the Codeup Data Science MySQL Server. The database name is `curriculum_logs`.\n",
    "\n",
    "Go through the lesson commenting code, adding docstrings, and adding markdown to support what is happening. \n",
    "\n",
    "Bonus:\n",
    "\n",
    "Discover users who are accessing our curriculum pages way beyond the end of their codeup time. What would the dataframe look like? Use time series method for detecting anomalies, like exponential moving average with %b.\n",
    "\n",
    "Can you label students who are viewing both the web dev and data science curriculum?\n",
    "Can you label students by the program they are in? \n",
    "Can you label users by student vs. staff?"
   ]
  }
 ],
 "metadata": {
  "kernelspec": {
   "display_name": "Python 3",
   "language": "python",
   "name": "python3"
  },
  "language_info": {
   "codemirror_mode": {
    "name": "ipython",
    "version": 3
   },
   "file_extension": ".py",
   "mimetype": "text/x-python",
   "name": "python",
   "nbconvert_exporter": "python",
   "pygments_lexer": "ipython3",
   "version": "3.8.2"
  }
 },
 "nbformat": 4,
 "nbformat_minor": 2
}
